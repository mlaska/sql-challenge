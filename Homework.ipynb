{
 "cells": [
  {
   "cell_type": "code",
   "execution_count": 1,
   "metadata": {},
   "outputs": [],
   "source": [
    "import pandas as pd\n",
    "import matplotlib.pyplot as plt\n",
    "%matplotlib inline\n",
    "\n",
    "from sqlalchemy import create_engine\n",
    "\n",
    "username = 'postgres'\n",
    "password = os.environ['Password']\n",
    "database = 'SQL_HW_1'\n",
    "postgress_machine = 'localhost:5432'\n",
    "\n",
    "engine = create_engine(f'postgresql://{username}:{password}@{postgress_machine}/{database}')\n",
    "connection = engine.connect()"
   ]
  },
  {
   "cell_type": "code",
   "execution_count": 2,
   "metadata": {},
   "outputs": [],
   "source": [
    "employees = pd.read_sql('Select distinct t.title From public.\"Titles\" t', connection)"
   ]
  },
  {
   "cell_type": "code",
   "execution_count": 3,
   "metadata": {},
   "outputs": [],
   "source": [
    "mylist = employees['title'].tolist()"
   ]
  },
  {
   "cell_type": "code",
   "execution_count": 25,
   "metadata": {},
   "outputs": [],
   "source": [
    "Salaries = []\n",
    "\n",
    "for i in mylist:\n",
    "    frame = pd.read_sql(f'''\n",
    "    Select round(AVG(s.salary),2) as Average_Salary\n",
    "    from public.\"Salaries\" s\n",
    "    join \"Titles\" t ON t.emp_no = s.emp_no\n",
    "    where t.title = '{i}' ''', connection)\n",
    "    Salaries.append(frame['average_salary'].to_list())"
   ]
  },
  {
   "cell_type": "code",
   "execution_count": 36,
   "metadata": {},
   "outputs": [
    {
     "data": {
      "text/plain": [
       "<matplotlib.axes._subplots.AxesSubplot at 0x223e376e6a0>"
      ]
     },
     "execution_count": 36,
     "metadata": {},
     "output_type": "execute_result"
    },
    {
     "data": {
      "image/png": "[encoded data removed]",
      "text/plain": [
       "<Figure size 432x288 with 1 Axes>"
      ]
     },
     "metadata": {
      "needs_background": "light"
     },
     "output_type": "display_data"
    }
   ],
   "source": [
    "thing = pd.DataFrame(Salaries).rename(columns = {0 :'Avg_sal'})\n",
    "thing['Title'] = mylist\n",
    "thing.plot(kind = 'bar', x = 'Title')"
   ]
  }
 ],
 "metadata": {
  "kernelspec": {
   "display_name": "Python 3",
   "language": "python",
   "name": "python3"
  },
  "language_info": {
   "codemirror_mode": {
    "name": "ipython",
    "version": 3
   },
   "file_extension": ".py",
   "mimetype": "text/x-python",
   "name": "python",
   "nbconvert_exporter": "python",
   "pygments_lexer": "ipython3",
   "version": "3.6.9"
  }
 },
 "nbformat": 4,
 "nbformat_minor": 2
}
